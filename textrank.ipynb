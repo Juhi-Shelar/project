{
 "cells": [
  {
   "cell_type": "code",
   "execution_count": 1,
   "metadata": {},
   "outputs": [],
   "source": [
    "import warnings\n",
    "warnings.filterwarnings(\"ignore\")                     #Ignoring unnecessory warnings\n",
    "\n",
    "import sys\n",
    "import numpy as np                                  #for large and multi-dimensional arrays\n",
    "import pandas as pd                                 #for data manipulation and analysis\n",
    "import nltk                                         #Natural language processing tool-kit\n",
    "\n",
    "from sklearn.feature_extraction.text import CountVectorizer          #For Bag of words"
   ]
  },
  {
   "cell_type": "code",
   "execution_count": 2,
   "metadata": {},
   "outputs": [],
   "source": [
    "data_path = \"input/twitter/five_ten.csv\"\n",
    "#data_path = sys.argv[1]\n",
    "data = pd.read_csv(data_path,encoding='latin-1')\n",
    "data_threads = data.head(7)"
   ]
  },
  {
   "cell_type": "code",
   "execution_count": 3,
   "metadata": {},
   "outputs": [
    {
     "data": {
      "text/plain": [
       "Index(['id', 'thread_number', 'timestamp', 'text', 'retweets', 'likes',\n",
       "       'replies'],\n",
       "      dtype='object')"
      ]
     },
     "execution_count": 3,
     "metadata": {},
     "output_type": "execute_result"
    }
   ],
   "source": [
    "data_threads.columns"
   ]
  },
  {
   "cell_type": "code",
   "execution_count": 4,
   "metadata": {},
   "outputs": [],
   "source": [
    "final_data = data_threads.drop_duplicates(subset={\"thread_number\",\"text\",\"retweets\",\"likes\",\"replies\"})"
   ]
  },
  {
   "cell_type": "code",
   "execution_count": 5,
   "metadata": {},
   "outputs": [],
   "source": [
    "final_thread_number = final_data['thread_number']\n",
    "final_text = final_data['text']"
   ]
  },
  {
   "cell_type": "code",
   "execution_count": 6,
   "metadata": {},
   "outputs": [],
   "source": [
    "import re\n",
    "temp = []\n",
    "for sentence in final_text:\n",
    "    sentence = sentence.lower()\n",
    "    cleanr = re.compile('<.*?>')\n",
    "    sentence = re.sub(cleanr, ' ', sentence)        #Removing HTML tags\n",
    "    sentence = re.sub(r'[?|!|\\'|\"|#]',r'',sentence)\n",
    "    sentence = re.sub(r'[.|,|)|(|\\|/]',r' ',sentence)        #Removing Punctuations\n",
    "    \n",
    "    words = [word for word in sentence.split()]   # Stemming and removing stopwords\n",
    "    temp.append(words)\n",
    "\n",
    "final_text = temp"
   ]
  },
  {
   "cell_type": "code",
   "execution_count": 7,
   "metadata": {},
   "outputs": [
    {
     "name": "stdout",
     "output_type": "stream",
     "text": [
      "[['extraordinary', 'evidence', 'at', 'treasury', 'committee', 'from', 'jon', 'thompson', 'ceo', 'of', 'hmrc', 'on', 'customs', 'and', 'brexit', 'today', 'https:', 't', 'co', 'djhiqhmvwj'], ['the', 'brexiter', 'favourite', 'max', 'fac', '-', 'would', 'cost', 'business', 'between', 'â£17', 'and', 'â£20bn', 'a', 'year', '-', 'thats', 'almost', '1%', 'of', 'gdp', '-', 'jusâ¦', 'https:', 't', 'co', '0mwicwre4t'], ['how', 'does', 'he', 'arrive', 'at', 'the', 'figure', '200m', 'export', 'consignments', 'at', 'an', 'average', 'cost', 'of', 'â£32', '50', 'each', '=', 'â£6', '5bn', 'times', 'two', 'beâ¦', 'https:', 't', 'co', 'kxnku2qivo'], ['theresa', 'mays', 'new', 'customs', 'partnership', 'is', 'much', 'cheaper', 'for', 'business', 'almost', 'zero', 'cost', 'because', 'it', 'seeks', 'to', 'replicatâ¦', 'https:', 't', 'co', '0lcsjhah0h'], ['mr', 'thompson', 'said', 'he', 'did', 'not', 'expect', 'the', 'eu', 'to', 'reciprocate', 'over', 'the', 'customs', 'partnership', 'what', 'that', 'means', 'is', 'uk', 'collâ¦', 'https:', 't', 'co', '9c3uhhnzgx'], ['both', 'would', 'not', 'be', 'ready', 'by', '2021', 'max', 'fac', 'needs', '3', 'years', 'customs', 'partnership', 'requires', '5', 'mr', 'thompson', 'said', 'the', 'bordâ¦', 'https:', 't', 'co', 'lulzgusir4'], ['we', 'think', 'we', 'can', 'manage', 'the', 'risk', '-', 'we', 'think', 'we', 'can', 'he', 'said', 'he', 'didnt', 'sound', 'so', 'sure', 'and', 'the', 'potential', 'backdoorâ¦', 'https:', 't', 'co', 'ti1nbbjfpu']]\n"
     ]
    }
   ],
   "source": [
    "print(final_text)"
   ]
  },
  {
   "cell_type": "code",
   "execution_count": 8,
   "metadata": {},
   "outputs": [],
   "source": [
    "def combine_words_to_sentence(final_text):    \n",
    "    temp = []\n",
    "    for row in final_text:\n",
    "        sequ = ''\n",
    "        for word in row:\n",
    "            sequ = sequ + ' ' + word\n",
    "        temp.append(sequ)\n",
    "    return temp"
   ]
  },
  {
   "cell_type": "code",
   "execution_count": 9,
   "metadata": {},
   "outputs": [
    {
     "name": "stdout",
     "output_type": "stream",
     "text": [
      "[' extraordinary evidence at treasury committee from jon thompson ceo of hmrc on customs and brexit today https: t co djhiqhmvwj', ' the brexiter favourite max fac - would cost business between â£17 and â£20bn a year - thats almost 1% of gdp - jusâ¦ https: t co 0mwicwre4t', ' how does he arrive at the figure 200m export consignments at an average cost of â£32 50 each = â£6 5bn times two beâ¦ https: t co kxnku2qivo', ' theresa mays new customs partnership is much cheaper for business almost zero cost because it seeks to replicatâ¦ https: t co 0lcsjhah0h', ' mr thompson said he did not expect the eu to reciprocate over the customs partnership what that means is uk collâ¦ https: t co 9c3uhhnzgx', ' both would not be ready by 2021 max fac needs 3 years customs partnership requires 5 mr thompson said the bordâ¦ https: t co lulzgusir4', ' we think we can manage the risk - we think we can he said he didnt sound so sure and the potential backdoorâ¦ https: t co ti1nbbjfpu']\n"
     ]
    }
   ],
   "source": [
    "final_text = combine_words_to_sentence(final_text)\n",
    "print(final_text)"
   ]
  },
  {
   "cell_type": "code",
   "execution_count": 10,
   "metadata": {},
   "outputs": [
    {
     "name": "stdout",
     "output_type": "stream",
     "text": [
      "  (0, 38)\t1\n",
      "  (0, 30)\t1\n",
      "  (0, 55)\t1\n",
      "  (0, 95)\t1\n",
      "  (0, 23)\t1\n",
      "  (0, 12)\t1\n",
      "  (0, 35)\t1\n",
      "  (0, 72)\t1\n",
      "  (0, 53)\t1\n",
      "  (0, 71)\t1\n",
      "  (0, 28)\t1\n",
      "  (0, 91)\t1\n",
      "  (0, 58)\t1\n",
      "  (0, 50)\t1\n",
      "  (0, 32)\t1\n",
      "  (0, 96)\t1\n",
      "  (0, 14)\t1\n",
      "  (0, 42)\t1\n",
      "  (0, 45)\t1\n",
      "  (1, 1)\t1\n",
      "  (1, 59)\t1\n",
      "  (1, 51)\t1\n",
      "  (1, 10)\t1\n",
      "  (1, 87)\t1\n",
      "  (1, 102)\t1\n",
      "  :\t:\n",
      "  (5, 46)\t1\n",
      "  (5, 63)\t1\n",
      "  (5, 88)\t1\n",
      "  (5, 30)\t1\n",
      "  (5, 55)\t1\n",
      "  (5, 35)\t1\n",
      "  (5, 91)\t1\n",
      "  (6, 92)\t1\n",
      "  (6, 16)\t1\n",
      "  (6, 75)\t1\n",
      "  (6, 85)\t1\n",
      "  (6, 83)\t1\n",
      "  (6, 84)\t1\n",
      "  (6, 37)\t1\n",
      "  (6, 80)\t1\n",
      "  (6, 62)\t1\n",
      "  (6, 27)\t2\n",
      "  (6, 90)\t2\n",
      "  (6, 99)\t4\n",
      "  (6, 81)\t1\n",
      "  (6, 52)\t2\n",
      "  (6, 88)\t2\n",
      "  (6, 30)\t1\n",
      "  (6, 55)\t1\n",
      "  (6, 12)\t1\n"
     ]
    }
   ],
   "source": [
    "count_vect = CountVectorizer(max_features=5000)\n",
    "vect_data = count_vect.fit_transform(final_text)\n",
    "print(vect_data)"
   ]
  },
  {
   "cell_type": "code",
   "execution_count": 11,
   "metadata": {},
   "outputs": [
    {
     "name": "stdout",
     "output_type": "stream",
     "text": [
      "[(0.17665462772736204, ' mr thompson said he did not expect the eu to reciprocate over the customs partnership what that means is uk collâ¦ https: t co 9c3uhhnzgx'), (0.16355344275115066, ' both would not be ready by 2021 max fac needs 3 years customs partnership requires 5 mr thompson said the bordâ¦ https: t co lulzgusir4'), (0.15371271304510203, ' the brexiter favourite max fac - would cost business between â£17 and â£20bn a year - thats almost 1% of gdp - jusâ¦ https: t co 0mwicwre4t'), (0.1309279986183248, ' extraordinary evidence at treasury committee from jon thompson ceo of hmrc on customs and brexit today https: t co djhiqhmvwj'), (0.1302704193830502, ' how does he arrive at the figure 200m export consignments at an average cost of â£32 50 each = â£6 5bn times two beâ¦ https: t co kxnku2qivo'), (0.12754237222691778, ' theresa mays new customs partnership is much cheaper for business almost zero cost because it seeks to replicatâ¦ https: t co 0lcsjhah0h'), (0.11733842624809253, ' we think we can manage the risk - we think we can he said he didnt sound so sure and the potential backdoorâ¦ https: t co ti1nbbjfpu')]\n",
      "[(0.17665462772736204, ' mr thompson said he did not expect the eu to reciprocate over the customs partnership what that means is uk collâ¦ https: t co 9c3uhhnzgx'), (0.16355344275115066, ' both would not be ready by 2021 max fac needs 3 years customs partnership requires 5 mr thompson said the bordâ¦ https: t co lulzgusir4'), (0.15371271304510203, ' the brexiter favourite max fac - would cost business between â£17 and â£20bn a year - thats almost 1% of gdp - jusâ¦ https: t co 0mwicwre4t'), (0.1309279986183248, ' extraordinary evidence at treasury committee from jon thompson ceo of hmrc on customs and brexit today https: t co djhiqhmvwj'), (0.1302704193830502, ' how does he arrive at the figure 200m export consignments at an average cost of â£32 50 each = â£6 5bn times two beâ¦ https: t co kxnku2qivo'), (0.12754237222691778, ' theresa mays new customs partnership is much cheaper for business almost zero cost because it seeks to replicatâ¦ https: t co 0lcsjhah0h'), (0.11733842624809253, ' we think we can manage the risk - we think we can he said he didnt sound so sure and the potential backdoorâ¦ https: t co ti1nbbjfpu')]\n",
      "[(0.17665462772736204, ' mr thompson said he did not expect the eu to reciprocate over the customs partnership what that means is uk collâ¦ https: t co 9c3uhhnzgx'), (0.16355344275115066, ' both would not be ready by 2021 max fac needs 3 years customs partnership requires 5 mr thompson said the bordâ¦ https: t co lulzgusir4'), (0.15371271304510203, ' the brexiter favourite max fac - would cost business between â£17 and â£20bn a year - thats almost 1% of gdp - jusâ¦ https: t co 0mwicwre4t'), (0.1309279986183248, ' extraordinary evidence at treasury committee from jon thompson ceo of hmrc on customs and brexit today https: t co djhiqhmvwj'), (0.1302704193830502, ' how does he arrive at the figure 200m export consignments at an average cost of â£32 50 each = â£6 5bn times two beâ¦ https: t co kxnku2qivo'), (0.12754237222691778, ' theresa mays new customs partnership is much cheaper for business almost zero cost because it seeks to replicatâ¦ https: t co 0lcsjhah0h'), (0.11733842624809253, ' we think we can manage the risk - we think we can he said he didnt sound so sure and the potential backdoorâ¦ https: t co ti1nbbjfpu')]\n",
      "[(0.17665462772736204, ' mr thompson said he did not expect the eu to reciprocate over the customs partnership what that means is uk collâ¦ https: t co 9c3uhhnzgx'), (0.16355344275115066, ' both would not be ready by 2021 max fac needs 3 years customs partnership requires 5 mr thompson said the bordâ¦ https: t co lulzgusir4'), (0.15371271304510203, ' the brexiter favourite max fac - would cost business between â£17 and â£20bn a year - thats almost 1% of gdp - jusâ¦ https: t co 0mwicwre4t'), (0.1309279986183248, ' extraordinary evidence at treasury committee from jon thompson ceo of hmrc on customs and brexit today https: t co djhiqhmvwj'), (0.1302704193830502, ' how does he arrive at the figure 200m export consignments at an average cost of â£32 50 each = â£6 5bn times two beâ¦ https: t co kxnku2qivo'), (0.12754237222691778, ' theresa mays new customs partnership is much cheaper for business almost zero cost because it seeks to replicatâ¦ https: t co 0lcsjhah0h'), (0.11733842624809253, ' we think we can manage the risk - we think we can he said he didnt sound so sure and the potential backdoorâ¦ https: t co ti1nbbjfpu')]\n",
      "[(0.17665462772736204, ' mr thompson said he did not expect the eu to reciprocate over the customs partnership what that means is uk collâ¦ https: t co 9c3uhhnzgx'), (0.16355344275115066, ' both would not be ready by 2021 max fac needs 3 years customs partnership requires 5 mr thompson said the bordâ¦ https: t co lulzgusir4'), (0.15371271304510203, ' the brexiter favourite max fac - would cost business between â£17 and â£20bn a year - thats almost 1% of gdp - jusâ¦ https: t co 0mwicwre4t'), (0.1309279986183248, ' extraordinary evidence at treasury committee from jon thompson ceo of hmrc on customs and brexit today https: t co djhiqhmvwj'), (0.1302704193830502, ' how does he arrive at the figure 200m export consignments at an average cost of â£32 50 each = â£6 5bn times two beâ¦ https: t co kxnku2qivo'), (0.12754237222691778, ' theresa mays new customs partnership is much cheaper for business almost zero cost because it seeks to replicatâ¦ https: t co 0lcsjhah0h'), (0.11733842624809253, ' we think we can manage the risk - we think we can he said he didnt sound so sure and the potential backdoorâ¦ https: t co ti1nbbjfpu')]\n",
      "[(0.17665462772736204, ' mr thompson said he did not expect the eu to reciprocate over the customs partnership what that means is uk collâ¦ https: t co 9c3uhhnzgx'), (0.16355344275115066, ' both would not be ready by 2021 max fac needs 3 years customs partnership requires 5 mr thompson said the bordâ¦ https: t co lulzgusir4'), (0.15371271304510203, ' the brexiter favourite max fac - would cost business between â£17 and â£20bn a year - thats almost 1% of gdp - jusâ¦ https: t co 0mwicwre4t'), (0.1309279986183248, ' extraordinary evidence at treasury committee from jon thompson ceo of hmrc on customs and brexit today https: t co djhiqhmvwj'), (0.1302704193830502, ' how does he arrive at the figure 200m export consignments at an average cost of â£32 50 each = â£6 5bn times two beâ¦ https: t co kxnku2qivo'), (0.12754237222691778, ' theresa mays new customs partnership is much cheaper for business almost zero cost because it seeks to replicatâ¦ https: t co 0lcsjhah0h'), (0.11733842624809253, ' we think we can manage the risk - we think we can he said he didnt sound so sure and the potential backdoorâ¦ https: t co ti1nbbjfpu')]\n",
      "[(0.17665462772736204, ' mr thompson said he did not expect the eu to reciprocate over the customs partnership what that means is uk collâ¦ https: t co 9c3uhhnzgx'), (0.16355344275115066, ' both would not be ready by 2021 max fac needs 3 years customs partnership requires 5 mr thompson said the bordâ¦ https: t co lulzgusir4'), (0.15371271304510203, ' the brexiter favourite max fac - would cost business between â£17 and â£20bn a year - thats almost 1% of gdp - jusâ¦ https: t co 0mwicwre4t'), (0.1309279986183248, ' extraordinary evidence at treasury committee from jon thompson ceo of hmrc on customs and brexit today https: t co djhiqhmvwj'), (0.1302704193830502, ' how does he arrive at the figure 200m export consignments at an average cost of â£32 50 each = â£6 5bn times two beâ¦ https: t co kxnku2qivo'), (0.12754237222691778, ' theresa mays new customs partnership is much cheaper for business almost zero cost because it seeks to replicatâ¦ https: t co 0lcsjhah0h'), (0.11733842624809253, ' we think we can manage the risk - we think we can he said he didnt sound so sure and the potential backdoorâ¦ https: t co ti1nbbjfpu')]\n",
      "[(0.17665462772736204, ' mr thompson said he did not expect the eu to reciprocate over the customs partnership what that means is uk collâ¦ https: t co 9c3uhhnzgx'), (0.16355344275115066, ' both would not be ready by 2021 max fac needs 3 years customs partnership requires 5 mr thompson said the bordâ¦ https: t co lulzgusir4'), (0.15371271304510203, ' the brexiter favourite max fac - would cost business between â£17 and â£20bn a year - thats almost 1% of gdp - jusâ¦ https: t co 0mwicwre4t'), (0.1309279986183248, ' extraordinary evidence at treasury committee from jon thompson ceo of hmrc on customs and brexit today https: t co djhiqhmvwj'), (0.1302704193830502, ' how does he arrive at the figure 200m export consignments at an average cost of â£32 50 each = â£6 5bn times two beâ¦ https: t co kxnku2qivo'), (0.12754237222691778, ' theresa mays new customs partnership is much cheaper for business almost zero cost because it seeks to replicatâ¦ https: t co 0lcsjhah0h'), (0.11733842624809253, ' we think we can manage the risk - we think we can he said he didnt sound so sure and the potential backdoorâ¦ https: t co ti1nbbjfpu')]\n",
      "[(0.17665462772736204, ' mr thompson said he did not expect the eu to reciprocate over the customs partnership what that means is uk collâ¦ https: t co 9c3uhhnzgx'), (0.16355344275115066, ' both would not be ready by 2021 max fac needs 3 years customs partnership requires 5 mr thompson said the bordâ¦ https: t co lulzgusir4'), (0.15371271304510203, ' the brexiter favourite max fac - would cost business between â£17 and â£20bn a year - thats almost 1% of gdp - jusâ¦ https: t co 0mwicwre4t'), (0.1309279986183248, ' extraordinary evidence at treasury committee from jon thompson ceo of hmrc on customs and brexit today https: t co djhiqhmvwj'), (0.1302704193830502, ' how does he arrive at the figure 200m export consignments at an average cost of â£32 50 each = â£6 5bn times two beâ¦ https: t co kxnku2qivo'), (0.12754237222691778, ' theresa mays new customs partnership is much cheaper for business almost zero cost because it seeks to replicatâ¦ https: t co 0lcsjhah0h'), (0.11733842624809253, ' we think we can manage the risk - we think we can he said he didnt sound so sure and the potential backdoorâ¦ https: t co ti1nbbjfpu')]\n",
      "[(0.17665462772736204, ' mr thompson said he did not expect the eu to reciprocate over the customs partnership what that means is uk collâ¦ https: t co 9c3uhhnzgx'), (0.16355344275115066, ' both would not be ready by 2021 max fac needs 3 years customs partnership requires 5 mr thompson said the bordâ¦ https: t co lulzgusir4'), (0.15371271304510203, ' the brexiter favourite max fac - would cost business between â£17 and â£20bn a year - thats almost 1% of gdp - jusâ¦ https: t co 0mwicwre4t'), (0.1309279986183248, ' extraordinary evidence at treasury committee from jon thompson ceo of hmrc on customs and brexit today https: t co djhiqhmvwj'), (0.1302704193830502, ' how does he arrive at the figure 200m export consignments at an average cost of â£32 50 each = â£6 5bn times two beâ¦ https: t co kxnku2qivo'), (0.12754237222691778, ' theresa mays new customs partnership is much cheaper for business almost zero cost because it seeks to replicatâ¦ https: t co 0lcsjhah0h'), (0.11733842624809253, ' we think we can manage the risk - we think we can he said he didnt sound so sure and the potential backdoorâ¦ https: t co ti1nbbjfpu')]\n"
     ]
    }
   ],
   "source": [
    "sim_mat = np.zeros([len(final_text), len(final_text)])\n",
    "from sklearn.metrics.pairwise import cosine_similarity\n",
    "for i in range(len(final_text)):\n",
    "  for j in range(len(final_text)):\n",
    "    if i != j:\n",
    "       sim_mat[i][j] = cosine_similarity(vect_data[i], vect_data[j])[0,0]\n",
    "\n",
    "import networkx as nx\n",
    "\n",
    "nx_graph = nx.from_numpy_array(sim_mat)\n",
    "scores = nx.pagerank(nx_graph)\n",
    "\n",
    "ranked_sentences = sorted(((scores[i],s) for i,s in enumerate(final_text)), reverse=True)\n",
    "\n",
    "# Extract top 10 sentences as the summary\n",
    "for i in range(10):\n",
    "  print(ranked_sentences)"
   ]
  },
  {
   "cell_type": "code",
   "execution_count": null,
   "metadata": {},
   "outputs": [],
   "source": []
  }
 ],
 "metadata": {
  "kernelspec": {
   "display_name": "Python 3",
   "language": "python",
   "name": "python3"
  },
  "language_info": {
   "codemirror_mode": {
    "name": "ipython",
    "version": 3
   },
   "file_extension": ".py",
   "mimetype": "text/x-python",
   "name": "python",
   "nbconvert_exporter": "python",
   "pygments_lexer": "ipython3",
   "version": "3.6.6"
  }
 },
 "nbformat": 4,
 "nbformat_minor": 2
}
