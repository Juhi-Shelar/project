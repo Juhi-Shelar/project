{
 "cells": [
  {
   "cell_type": "code",
   "execution_count": 13,
   "metadata": {},
   "outputs": [],
   "source": [
    "import warnings\n",
    "warnings.filterwarnings(\"ignore\")                     #Ignoring unnecessory warnings\n",
    "\n",
    "import sys\n",
    "import numpy as np                                  #for large and multi-dimensional arrays\n",
    "import pandas as pd                                 #for data manipulation and analysis\n",
    "import nltk                                         #Natural language processing tool-kit\n",
    "\n",
    "from sklearn.feature_extraction.text import CountVectorizer          #For Bag of words"
   ]
  },
  {
   "cell_type": "code",
   "execution_count": 14,
   "metadata": {},
   "outputs": [],
   "source": [
    "data_path = \"input/twitter/five_ten.csv\"\n",
    "#data_path = sys.argv[1]\n",
    "data = pd.read_csv(data_path,encoding='latin-1')\n",
    "data_threads = data.head(7)"
   ]
  },
  {
   "cell_type": "code",
   "execution_count": 15,
   "metadata": {},
   "outputs": [
    {
     "data": {
      "text/plain": [
       "Index(['id', 'thread_number', 'timestamp', 'text', 'retweets', 'likes',\n       'replies'],\n      dtype='object')"
      ]
     },
     "execution_count": 15,
     "metadata": {},
     "output_type": "execute_result"
    }
   ],
   "source": [
    "data_threads.columns"
   ]
  },
  {
   "cell_type": "code",
   "execution_count": 16,
   "metadata": {},
   "outputs": [],
   "source": [
    "final_data = data_threads.drop_duplicates(subset={\"thread_number\",\"text\",\"retweets\",\"likes\",\"replies\"})"
   ]
  },
  {
   "cell_type": "code",
   "execution_count": 17,
   "metadata": {},
   "outputs": [],
   "source": [
    "final_thread_number = final_data['thread_number']\n",
    "final_text = final_data['text']"
   ]
  },
  {
   "cell_type": "code",
   "execution_count": 19,
   "metadata": {},
   "outputs": [],
   "source": [
    "import re\n",
    "temp = []\n",
    "for sentence in final_text:\n",
    "    sentence = re.sub(r'\\w+:\\/{2}[\\d\\w-]+(\\.[\\d\\w-]+)*(?:(?:\\/[^\\s/]*))*', '', sentence)\n",
    "    sentence = sentence.lower()\n",
    "    cleanr = re.compile('<.*?>')\n",
    "    sentence = re.sub(cleanr, ' ', sentence)        #Removing HTML tags\n",
    "    sentence = re.sub(r'[?|!|\\'|\"|#]',r'',sentence)\n",
    "    sentence = re.sub(r'[.|,|)|(|\\|/]',r' ',sentence)        #Removing Punctuations\n",
    "    \n",
    "    words = [word for word in sentence.split()]   # Stemming and removing stopwords\n",
    "    temp.append(words)\n",
    "\n",
    "final_text = temp"
   ]
  },
  {
   "cell_type": "code",
   "execution_count": 20,
   "metadata": {},
   "outputs": [
    {
     "name": "stdout",
     "output_type": "stream",
     "text": [
      "[['extraordinary', 'evidence', 'at', 'treasury', 'committee', 'from', 'jon', 'thompson', 'ceo', 'of', 'hmrc', 'on', 'customs', 'and', 'brexit', 'today'], ['the', 'brexiter', 'favourite', 'max', 'fac', '-', 'would', 'cost', 'business', 'between', 'â£17', 'and', 'â£20bn', 'a', 'year', '-', 'thats', 'almost', '1%', 'of', 'gdp', '-', 'jusâ¦'], ['how', 'does', 'he', 'arrive', 'at', 'the', 'figure', '200m', 'export', 'consignments', 'at', 'an', 'average', 'cost', 'of', 'â£32', '50', 'each', '=', 'â£6', '5bn', 'times', 'two', 'beâ¦'], ['theresa', 'mays', 'new', 'customs', 'partnership', 'is', 'much', 'cheaper', 'for', 'business', 'almost', 'zero', 'cost', 'because', 'it', 'seeks', 'to', 'replicatâ¦'], ['mr', 'thompson', 'said', 'he', 'did', 'not', 'expect', 'the', 'eu', 'to', 'reciprocate', 'over', 'the', 'customs', 'partnership', 'what', 'that', 'means', 'is', 'uk', 'collâ¦'], ['both', 'would', 'not', 'be', 'ready', 'by', '2021', 'max', 'fac', 'needs', '3', 'years', 'customs', 'partnership', 'requires', '5', 'mr', 'thompson', 'said', 'the', 'bordâ¦'], ['we', 'think', 'we', 'can', 'manage', 'the', 'risk', '-', 'we', 'think', 'we', 'can', 'he', 'said', 'he', 'didnt', 'sound', 'so', 'sure', 'and', 'the', 'potential', 'backdoorâ¦']]\n"
     ]
    }
   ],
   "source": [
    "print(final_text)"
   ]
  },
  {
   "cell_type": "code",
   "execution_count": 21,
   "metadata": {},
   "outputs": [],
   "source": [
    "def combine_words_to_sentence(final_text):    \n",
    "    temp = []\n",
    "    for row in final_text:\n",
    "        sequ = ''\n",
    "        for word in row:\n",
    "            sequ = sequ + ' ' + word\n",
    "        temp.append(sequ)\n",
    "    return temp"
   ]
  },
  {
   "cell_type": "code",
   "execution_count": 22,
   "metadata": {},
   "outputs": [
    {
     "name": "stdout",
     "output_type": "stream",
     "text": [
      "[' extraordinary evidence at treasury committee from jon thompson ceo of hmrc on customs and brexit today', ' the brexiter favourite max fac - would cost business between â£17 and â£20bn a year - thats almost 1% of gdp - jusâ¦', ' how does he arrive at the figure 200m export consignments at an average cost of â£32 50 each = â£6 5bn times two beâ¦', ' theresa mays new customs partnership is much cheaper for business almost zero cost because it seeks to replicatâ¦', ' mr thompson said he did not expect the eu to reciprocate over the customs partnership what that means is uk collâ¦', ' both would not be ready by 2021 max fac needs 3 years customs partnership requires 5 mr thompson said the bordâ¦', ' we think we can manage the risk - we think we can he said he didnt sound so sure and the potential backdoorâ¦']\n"
     ]
    }
   ],
   "source": [
    "final_text = combine_words_to_sentence(final_text)\n",
    "print(final_text)"
   ]
  },
  {
   "cell_type": "code",
   "execution_count": 23,
   "metadata": {},
   "outputs": [
    {
     "name": "stdout",
     "output_type": "stream",
     "text": [
      "  (0, 86)\t1\n  (0, 20)\t1\n  (0, 9)\t1\n  (0, 31)\t1\n  (0, 64)\t1\n  (0, 48)\t1\n  (0, 63)\t1\n  (0, 25)\t1\n  (0, 83)\t1\n  (0, 52)\t1\n  (0, 45)\t1\n  (0, 28)\t1\n  (0, 87)\t1\n  (0, 11)\t1\n  (0, 37)\t1\n  (0, 40)\t1\n  (1, 53)\t1\n  (1, 46)\t1\n  (1, 7)\t1\n  (1, 79)\t1\n  (1, 93)\t1\n  (1, 3)\t1\n  (1, 0)\t1\n  (1, 16)\t1\n  (1, 22)\t1\n  :\t:\n  (5, 62)\t1\n  (5, 73)\t1\n  (5, 58)\t1\n  (5, 66)\t1\n  (5, 92)\t1\n  (5, 41)\t1\n  (5, 55)\t1\n  (5, 80)\t1\n  (5, 31)\t1\n  (5, 83)\t1\n  (6, 13)\t1\n  (6, 67)\t1\n  (6, 77)\t1\n  (6, 75)\t1\n  (6, 76)\t1\n  (6, 33)\t1\n  (6, 72)\t1\n  (6, 54)\t1\n  (6, 24)\t2\n  (6, 82)\t2\n  (6, 90)\t4\n  (6, 73)\t1\n  (6, 47)\t2\n  (6, 80)\t2\n  (6, 9)\t1\n"
     ]
    }
   ],
   "source": [
    "count_vect = CountVectorizer(max_features=5000)\n",
    "vect_data = count_vect.fit_transform(final_text)\n",
    "print(vect_data)"
   ]
  },
  {
   "cell_type": "code",
   "execution_count": 32,
   "metadata": {},
   "outputs": [
    {
     "name": "stdout",
     "output_type": "stream",
     "text": [
      "[(0.20212678443752619, ' mr thompson said he did not expect the eu to reciprocate over the customs partnership what that means is uk collâ¦'), (0.1748943846754864, ' both would not be ready by 2021 max fac needs 3 years customs partnership requires 5 mr thompson said the bordâ¦'), (0.15738839248229636, ' the brexiter favourite max fac - would cost business between â£17 and â£20bn a year - thats almost 1% of gdp - jusâ¦'), (0.12421085030244729, ' how does he arrive at the figure 200m export consignments at an average cost of â£32 50 each = â£6 5bn times two beâ¦'), (0.1158047240347245, ' we think we can manage the risk - we think we can he said he didnt sound so sure and the potential backdoorâ¦'), (0.11414187895075702, ' extraordinary evidence at treasury committee from jon thompson ceo of hmrc on customs and brexit today'), (0.11143298511676256, ' theresa mays new customs partnership is much cheaper for business almost zero cost because it seeks to replicatâ¦')]\n(0.20212678443752619, ' mr thompson said he did not expect the eu to reciprocate over the customs partnership what that means is uk collâ¦')\n\n\n(0.1748943846754864, ' both would not be ready by 2021 max fac needs 3 years customs partnership requires 5 mr thompson said the bordâ¦')\n\n\n(0.15738839248229636, ' the brexiter favourite max fac - would cost business between â£17 and â£20bn a year - thats almost 1% of gdp - jusâ¦')\n\n\n(0.12421085030244729, ' how does he arrive at the figure 200m export consignments at an average cost of â£32 50 each = â£6 5bn times two beâ¦')\n\n\n(0.1158047240347245, ' we think we can manage the risk - we think we can he said he didnt sound so sure and the potential backdoorâ¦')\n\n\n(0.11414187895075702, ' extraordinary evidence at treasury committee from jon thompson ceo of hmrc on customs and brexit today')\n\n\n(0.11143298511676256, ' theresa mays new customs partnership is much cheaper for business almost zero cost because it seeks to replicatâ¦')\n\n\n"
     ]
    }
   ],
   "source": [
    "sim_mat = np.zeros([len(final_text), len(final_text)])\n",
    "from sklearn.metrics.pairwise import cosine_similarity\n",
    "for i in range(len(final_text)):\n",
    "  for j in range(len(final_text)):\n",
    "    if i != j:\n",
    "       sim_mat[i][j] = cosine_similarity(vect_data[i], vect_data[j])[0,0]\n",
    "\n",
    "import networkx as nx\n",
    "\n",
    "nx_graph = nx.from_numpy_array(sim_mat)\n",
    "scores = nx.pagerank(nx_graph)\n",
    "\n",
    "ranked_sentences = sorted(((scores[i],s) for i,s in enumerate(final_text)), reverse=True)\n",
    "\n",
    "print(ranked_sentences)\n",
    "for i in ranked_sentences:\n",
    "    print(i)\n",
    "    print(\"\\n\")\n",
    "    \n",
    "# Extract top 10 sentences as the summary\n",
    "# for i in range(10):\n",
    "#   print(ranked_sentences)"
   ]
  },
  {
   "cell_type": "code",
   "execution_count": null,
   "metadata": {},
   "outputs": [],
   "source": []
  }
 ],
 "metadata": {
  "kernelspec": {
   "display_name": "Python 3",
   "language": "python",
   "name": "python3"
  },
  "language_info": {
   "codemirror_mode": {
    "name": "ipython",
    "version": 3
   },
   "file_extension": ".py",
   "mimetype": "text/x-python",
   "name": "python",
   "nbconvert_exporter": "python",
   "pygments_lexer": "ipython3",
   "version": "3.6.6"
  }
 },
 "nbformat": 4,
 "nbformat_minor": 2
}
